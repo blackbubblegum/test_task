{
 "cells": [
  {
   "cell_type": "code",
   "execution_count": 12,
   "id": "f4cdcde3",
   "metadata": {},
   "outputs": [],
   "source": [
    "import pandas as pd"
   ]
  },
  {
   "cell_type": "code",
   "execution_count": 19,
   "id": "4c863b98",
   "metadata": {},
   "outputs": [],
   "source": [
    "def df_transform(path_to_file):\n",
    "    df = pd.read_csv(path_to_file, sep = ';', header=None, encoding= 'cp1251')\n",
    "    for i in range(0, df.shape[0], 5):\n",
    "        df.loc[2+i,0] = df.loc[0+i,4]\n",
    "        df.loc[4+i,0] = df.loc[0+i,6]\n",
    "    df = df[0].values.reshape(df.shape[0]//5,5)\n",
    "    df = pd.DataFrame(df,columns = ['Номенклатура','Компания1','Цена1', 'Компания2','Цена2'])\n",
    "    return df.to_csv('data/result.csv', index=False)"
   ]
  },
  {
   "cell_type": "code",
   "execution_count": 20,
   "id": "b279de65",
   "metadata": {},
   "outputs": [
    {
     "data": {
      "text/html": [
       "<div>\n",
       "<style scoped>\n",
       "    .dataframe tbody tr th:only-of-type {\n",
       "        vertical-align: middle;\n",
       "    }\n",
       "\n",
       "    .dataframe tbody tr th {\n",
       "        vertical-align: top;\n",
       "    }\n",
       "\n",
       "    .dataframe thead th {\n",
       "        text-align: right;\n",
       "    }\n",
       "</style>\n",
       "<table border=\"1\" class=\"dataframe\">\n",
       "  <thead>\n",
       "    <tr style=\"text-align: right;\">\n",
       "      <th></th>\n",
       "      <th>Номенклатура</th>\n",
       "      <th>Компания1</th>\n",
       "      <th>Цена1</th>\n",
       "      <th>Компания2</th>\n",
       "      <th>Цена2</th>\n",
       "    </tr>\n",
       "  </thead>\n",
       "  <tbody>\n",
       "    <tr>\n",
       "      <th>0</th>\n",
       "      <td>Болт и гайка креплоения башмака SD23</td>\n",
       "      <td>ООО \"ЮМС\"</td>\n",
       "      <td>587,4</td>\n",
       "      <td>ЮНИПАРТС ООО</td>\n",
       "      <td>1 040,00</td>\n",
       "    </tr>\n",
       "    <tr>\n",
       "      <th>1</th>\n",
       "      <td>Болт катка опорного M20X2.5X100</td>\n",
       "      <td>КОМПАРТ ООО</td>\n",
       "      <td>3 500,00</td>\n",
       "      <td>НЕРУДНЫЕ МАТЕРИАЛЫ ООО</td>\n",
       "      <td>5 180,00</td>\n",
       "    </tr>\n",
       "  </tbody>\n",
       "</table>\n",
       "</div>"
      ],
      "text/plain": [
       "                           Номенклатура    Компания1     Цена1  \\\n",
       "0  Болт и гайка креплоения башмака SD23    ООО \"ЮМС\"     587,4   \n",
       "1       Болт катка опорного M20X2.5X100  КОМПАРТ ООО  3 500,00   \n",
       "\n",
       "                Компания2     Цена2  \n",
       "0            ЮНИПАРТС ООО  1 040,00  \n",
       "1  НЕРУДНЫЕ МАТЕРИАЛЫ ООО  5 180,00  "
      ]
     },
     "execution_count": 20,
     "metadata": {},
     "output_type": "execute_result"
    }
   ],
   "source": [
    "df_transform('data/2222.csv')\n",
    "df = pd.read_csv('data/result.csv')\n",
    "df"
   ]
  },
  {
   "cell_type": "code",
   "execution_count": null,
   "id": "dd139f0d",
   "metadata": {},
   "outputs": [],
   "source": []
  },
  {
   "cell_type": "code",
   "execution_count": null,
   "id": "eceb8a36",
   "metadata": {},
   "outputs": [],
   "source": []
  },
  {
   "cell_type": "code",
   "execution_count": null,
   "id": "de1d767b",
   "metadata": {},
   "outputs": [],
   "source": []
  },
  {
   "cell_type": "code",
   "execution_count": null,
   "id": "09c85446",
   "metadata": {},
   "outputs": [],
   "source": []
  },
  {
   "cell_type": "code",
   "execution_count": null,
   "id": "4c551292",
   "metadata": {},
   "outputs": [],
   "source": []
  },
  {
   "cell_type": "code",
   "execution_count": null,
   "id": "b19e36e8",
   "metadata": {},
   "outputs": [],
   "source": []
  },
  {
   "cell_type": "code",
   "execution_count": null,
   "id": "362f2b98",
   "metadata": {},
   "outputs": [],
   "source": []
  },
  {
   "cell_type": "code",
   "execution_count": 56,
   "id": "96fba73c",
   "metadata": {},
   "outputs": [],
   "source": []
  },
  {
   "cell_type": "code",
   "execution_count": null,
   "id": "dbe99519",
   "metadata": {},
   "outputs": [],
   "source": []
  },
  {
   "cell_type": "markdown",
   "id": "0fe5430c",
   "metadata": {},
   "source": []
  },
  {
   "cell_type": "code",
   "execution_count": null,
   "id": "783a4530",
   "metadata": {},
   "outputs": [],
   "source": []
  },
  {
   "cell_type": "code",
   "execution_count": 70,
   "id": "c274e799",
   "metadata": {},
   "outputs": [],
   "source": []
  },
  {
   "cell_type": "code",
   "execution_count": null,
   "id": "9e9c7873",
   "metadata": {},
   "outputs": [],
   "source": []
  },
  {
   "cell_type": "code",
   "execution_count": null,
   "id": "52f63eb6",
   "metadata": {},
   "outputs": [],
   "source": []
  },
  {
   "cell_type": "code",
   "execution_count": null,
   "id": "2e4a60f2",
   "metadata": {},
   "outputs": [],
   "source": []
  },
  {
   "cell_type": "code",
   "execution_count": null,
   "id": "3493250f",
   "metadata": {},
   "outputs": [],
   "source": []
  },
  {
   "cell_type": "code",
   "execution_count": null,
   "id": "acba258f",
   "metadata": {},
   "outputs": [],
   "source": []
  },
  {
   "cell_type": "code",
   "execution_count": null,
   "id": "a9feb370",
   "metadata": {},
   "outputs": [],
   "source": []
  }
 ],
 "metadata": {
  "kernelspec": {
   "display_name": "Python 3",
   "language": "python",
   "name": "python3"
  },
  "language_info": {
   "codemirror_mode": {
    "name": "ipython",
    "version": 3
   },
   "file_extension": ".py",
   "mimetype": "text/x-python",
   "name": "python",
   "nbconvert_exporter": "python",
   "pygments_lexer": "ipython3",
   "version": "3.8.0"
  }
 },
 "nbformat": 4,
 "nbformat_minor": 5
}
